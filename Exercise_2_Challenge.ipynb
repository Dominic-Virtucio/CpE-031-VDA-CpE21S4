{
  "nbformat": 4,
  "nbformat_minor": 0,
  "metadata": {
    "colab": {
      "provenance": [],
      "authorship_tag": "ABX9TyPz2G1T+lxVFq7qWT5G8l2E",
      "include_colab_link": true
    },
    "kernelspec": {
      "name": "python3",
      "display_name": "Python 3"
    },
    "language_info": {
      "name": "python"
    }
  },
  "cells": [
    {
      "cell_type": "markdown",
      "metadata": {
        "id": "view-in-github",
        "colab_type": "text"
      },
      "source": [
        "<a href=\"https://colab.research.google.com/github/Dominic-Virtucio/CpE-031-VDA-CpE21S4/blob/main/Exercise_2_Challenge.ipynb\" target=\"_parent\"><img src=\"https://colab.research.google.com/assets/colab-badge.svg\" alt=\"Open In Colab\"/></a>"
      ]
    },
    {
      "cell_type": "markdown",
      "source": [
        "#Exercise 2 - Challenge\n",
        "\n",
        "How are you going delete indices no 0,1,3 leaving only all items in index 2?"
      ],
      "metadata": {
        "id": "0VhBPMMoMKOL"
      }
    },
    {
      "cell_type": "code",
      "execution_count": 1,
      "metadata": {
        "id": "mhU51ydVHs1Q",
        "colab": {
          "base_uri": "https://localhost:8080/"
        },
        "outputId": "12fb40f8-2b7a-4025-9521-3c5ec35c64bb"
      },
      "outputs": [
        {
          "output_type": "stream",
          "name": "stdout",
          "text": [
            "   0  1   2\n",
            "2  2  6  10\n"
          ]
        }
      ],
      "source": [
        "#Using 'drop' function\n",
        "import pandas as pd\n",
        "\n",
        "s1 = pd.Series([0,4,8])\n",
        "s2 = pd.Series([1,5,9])\n",
        "s3 = pd.Series([2,6,10])\n",
        "s4 = pd.Series([5,10,15])\n",
        "\n",
        "dframe = pd.DataFrame([s1,s2,s3,s4],index =[0,1,2,3], columns =[0,1,2])\n",
        "\n",
        "dframe = dframe.drop([0, 1, 3])\n",
        "\n",
        "print(dframe)\n"
      ]
    },
    {
      "cell_type": "markdown",
      "source": [
        "Alternative: we can also use the function '.loc[]' since it will have the same output"
      ],
      "metadata": {
        "id": "MetpdygiO2wt"
      }
    },
    {
      "cell_type": "code",
      "source": [
        "#Using '.loc[]' option\n",
        "import pandas as pd\n",
        "\n",
        "s1 = pd.Series([0, 4, 8])\n",
        "s2 = pd.Series([1, 5, 9])\n",
        "s3 = pd.Series([2, 6, 10])\n",
        "s4 = pd.Series([5, 10, 15])\n",
        "\n",
        "dframe = pd.DataFrame([s1, s2, s3, s4], index=[0, 1, 2, 3], columns=[0, 1, 2])\n",
        "\n",
        "dframe = dframe.loc[[2]]\n",
        "\n",
        "print(dframe)\n"
      ],
      "metadata": {
        "colab": {
          "base_uri": "https://localhost:8080/"
        },
        "id": "-kSbDpkfNBvw",
        "outputId": "30867255-852d-4569-9206-93d50f703890"
      },
      "execution_count": 2,
      "outputs": [
        {
          "output_type": "stream",
          "name": "stdout",
          "text": [
            "   0  1   2\n",
            "2  2  6  10\n"
          ]
        }
      ]
    }
  ]
}