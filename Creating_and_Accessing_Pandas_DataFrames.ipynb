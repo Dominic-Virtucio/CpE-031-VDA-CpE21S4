{
  "nbformat": 4,
  "nbformat_minor": 0,
  "metadata": {
    "colab": {
      "provenance": [],
      "authorship_tag": "ABX9TyMjwYvyGRsm0G2UXdRZ0P2F",
      "include_colab_link": true
    },
    "kernelspec": {
      "name": "python3",
      "display_name": "Python 3"
    },
    "language_info": {
      "name": "python"
    }
  },
  "cells": [
    {
      "cell_type": "markdown",
      "metadata": {
        "id": "view-in-github",
        "colab_type": "text"
      },
      "source": [
        "<a href=\"https://colab.research.google.com/github/Dominic-Virtucio/CpE-031-VDA-CpE21S4/blob/main/Creating_and_Accessing_Pandas_DataFrames.ipynb\" target=\"_parent\"><img src=\"https://colab.research.google.com/assets/colab-badge.svg\" alt=\"Open In Colab\"/></a>"
      ]
    },
    {
      "cell_type": "code",
      "execution_count": null,
      "metadata": {
        "colab": {
          "base_uri": "https://localhost:8080/"
        },
        "id": "OP7E0F4vSclV",
        "outputId": "b8501e40-1d4d-4a42-c7a8-ac657bfa23b6"
      },
      "outputs": [
        {
          "output_type": "stream",
          "name": "stdout",
          "text": [
            "Requirement already satisfied: pandas in /usr/local/lib/python3.10/dist-packages (2.1.4)\n",
            "Requirement already satisfied: numpy<2,>=1.22.4 in /usr/local/lib/python3.10/dist-packages (from pandas) (1.26.4)\n",
            "Requirement already satisfied: python-dateutil>=2.8.2 in /usr/local/lib/python3.10/dist-packages (from pandas) (2.8.2)\n",
            "Requirement already satisfied: pytz>=2020.1 in /usr/local/lib/python3.10/dist-packages (from pandas) (2024.2)\n",
            "Requirement already satisfied: tzdata>=2022.1 in /usr/local/lib/python3.10/dist-packages (from pandas) (2024.1)\n",
            "Requirement already satisfied: six>=1.5 in /usr/local/lib/python3.10/dist-packages (from python-dateutil>=2.8.2->pandas) (1.16.0)\n"
          ]
        }
      ],
      "source": [
        "!pip install pandas"
      ]
    },
    {
      "cell_type": "code",
      "source": [
        "from google.colab import drive\n",
        "drive.mount('/content/drive')"
      ],
      "metadata": {
        "colab": {
          "base_uri": "https://localhost:8080/"
        },
        "id": "wdwAtyENTW9O",
        "outputId": "5de07db0-02aa-4c85-817f-f3929f8935ad"
      },
      "execution_count": null,
      "outputs": [
        {
          "output_type": "stream",
          "name": "stdout",
          "text": [
            "Drive already mounted at /content/drive; to attempt to forcibly remount, call drive.mount(\"/content/drive\", force_remount=True).\n"
          ]
        }
      ]
    },
    {
      "cell_type": "code",
      "source": [
        "import pandas as pd"
      ],
      "metadata": {
        "id": "CINLKM-UT78N"
      },
      "execution_count": null,
      "outputs": []
    },
    {
      "cell_type": "code",
      "source": [
        "#Loading your dataset:\n",
        "path=\"/content/drive/MyDrive/DataSet/Football-Team.csv\"\n",
        "df=pd.read_csv(path)\n",
        "df.head(5)"
      ],
      "metadata": {
        "colab": {
          "base_uri": "https://localhost:8080/",
          "height": 206
        },
        "id": "T3Plzf8GT-rN",
        "outputId": "0e9f16f0-201c-4aa0-87fb-2ad23d148ab9"
      },
      "execution_count": null,
      "outputs": [
        {
          "output_type": "execute_result",
          "data": {
            "text/plain": [
              "                team  goals_scored  goals_conceded  wins  draws  losses  \\\n",
              "0    Manchester City           179              66    55     12       9   \n",
              "1          Liverpool           154              83    44     19      13   \n",
              "2            Arsenal           146              68    46     12      18   \n",
              "3  Manchester United           130             102    39     17      20   \n",
              "4            Chelsea           135              99    37     19      20   \n",
              "\n",
              "   points  goal_difference  rank  \n",
              "0     177              113     1  \n",
              "1     151               71     2  \n",
              "2     150               78     3  \n",
              "3     134               28     4  \n",
              "4     130               36     5  "
            ],
            "text/html": [
              "\n",
              "  <div id=\"df-b2c4d4b3-9fe7-40ed-a70d-9001da091ed9\" class=\"colab-df-container\">\n",
              "    <div>\n",
              "<style scoped>\n",
              "    .dataframe tbody tr th:only-of-type {\n",
              "        vertical-align: middle;\n",
              "    }\n",
              "\n",
              "    .dataframe tbody tr th {\n",
              "        vertical-align: top;\n",
              "    }\n",
              "\n",
              "    .dataframe thead th {\n",
              "        text-align: right;\n",
              "    }\n",
              "</style>\n",
              "<table border=\"1\" class=\"dataframe\">\n",
              "  <thead>\n",
              "    <tr style=\"text-align: right;\">\n",
              "      <th></th>\n",
              "      <th>team</th>\n",
              "      <th>goals_scored</th>\n",
              "      <th>goals_conceded</th>\n",
              "      <th>wins</th>\n",
              "      <th>draws</th>\n",
              "      <th>losses</th>\n",
              "      <th>points</th>\n",
              "      <th>goal_difference</th>\n",
              "      <th>rank</th>\n",
              "    </tr>\n",
              "  </thead>\n",
              "  <tbody>\n",
              "    <tr>\n",
              "      <th>0</th>\n",
              "      <td>Manchester City</td>\n",
              "      <td>179</td>\n",
              "      <td>66</td>\n",
              "      <td>55</td>\n",
              "      <td>12</td>\n",
              "      <td>9</td>\n",
              "      <td>177</td>\n",
              "      <td>113</td>\n",
              "      <td>1</td>\n",
              "    </tr>\n",
              "    <tr>\n",
              "      <th>1</th>\n",
              "      <td>Liverpool</td>\n",
              "      <td>154</td>\n",
              "      <td>83</td>\n",
              "      <td>44</td>\n",
              "      <td>19</td>\n",
              "      <td>13</td>\n",
              "      <td>151</td>\n",
              "      <td>71</td>\n",
              "      <td>2</td>\n",
              "    </tr>\n",
              "    <tr>\n",
              "      <th>2</th>\n",
              "      <td>Arsenal</td>\n",
              "      <td>146</td>\n",
              "      <td>68</td>\n",
              "      <td>46</td>\n",
              "      <td>12</td>\n",
              "      <td>18</td>\n",
              "      <td>150</td>\n",
              "      <td>78</td>\n",
              "      <td>3</td>\n",
              "    </tr>\n",
              "    <tr>\n",
              "      <th>3</th>\n",
              "      <td>Manchester United</td>\n",
              "      <td>130</td>\n",
              "      <td>102</td>\n",
              "      <td>39</td>\n",
              "      <td>17</td>\n",
              "      <td>20</td>\n",
              "      <td>134</td>\n",
              "      <td>28</td>\n",
              "      <td>4</td>\n",
              "    </tr>\n",
              "    <tr>\n",
              "      <th>4</th>\n",
              "      <td>Chelsea</td>\n",
              "      <td>135</td>\n",
              "      <td>99</td>\n",
              "      <td>37</td>\n",
              "      <td>19</td>\n",
              "      <td>20</td>\n",
              "      <td>130</td>\n",
              "      <td>36</td>\n",
              "      <td>5</td>\n",
              "    </tr>\n",
              "  </tbody>\n",
              "</table>\n",
              "</div>\n",
              "    <div class=\"colab-df-buttons\">\n",
              "\n",
              "  <div class=\"colab-df-container\">\n",
              "    <button class=\"colab-df-convert\" onclick=\"convertToInteractive('df-b2c4d4b3-9fe7-40ed-a70d-9001da091ed9')\"\n",
              "            title=\"Convert this dataframe to an interactive table.\"\n",
              "            style=\"display:none;\">\n",
              "\n",
              "  <svg xmlns=\"http://www.w3.org/2000/svg\" height=\"24px\" viewBox=\"0 -960 960 960\">\n",
              "    <path d=\"M120-120v-720h720v720H120Zm60-500h600v-160H180v160Zm220 220h160v-160H400v160Zm0 220h160v-160H400v160ZM180-400h160v-160H180v160Zm440 0h160v-160H620v160ZM180-180h160v-160H180v160Zm440 0h160v-160H620v160Z\"/>\n",
              "  </svg>\n",
              "    </button>\n",
              "\n",
              "  <style>\n",
              "    .colab-df-container {\n",
              "      display:flex;\n",
              "      gap: 12px;\n",
              "    }\n",
              "\n",
              "    .colab-df-convert {\n",
              "      background-color: #E8F0FE;\n",
              "      border: none;\n",
              "      border-radius: 50%;\n",
              "      cursor: pointer;\n",
              "      display: none;\n",
              "      fill: #1967D2;\n",
              "      height: 32px;\n",
              "      padding: 0 0 0 0;\n",
              "      width: 32px;\n",
              "    }\n",
              "\n",
              "    .colab-df-convert:hover {\n",
              "      background-color: #E2EBFA;\n",
              "      box-shadow: 0px 1px 2px rgba(60, 64, 67, 0.3), 0px 1px 3px 1px rgba(60, 64, 67, 0.15);\n",
              "      fill: #174EA6;\n",
              "    }\n",
              "\n",
              "    .colab-df-buttons div {\n",
              "      margin-bottom: 4px;\n",
              "    }\n",
              "\n",
              "    [theme=dark] .colab-df-convert {\n",
              "      background-color: #3B4455;\n",
              "      fill: #D2E3FC;\n",
              "    }\n",
              "\n",
              "    [theme=dark] .colab-df-convert:hover {\n",
              "      background-color: #434B5C;\n",
              "      box-shadow: 0px 1px 3px 1px rgba(0, 0, 0, 0.15);\n",
              "      filter: drop-shadow(0px 1px 2px rgba(0, 0, 0, 0.3));\n",
              "      fill: #FFFFFF;\n",
              "    }\n",
              "  </style>\n",
              "\n",
              "    <script>\n",
              "      const buttonEl =\n",
              "        document.querySelector('#df-b2c4d4b3-9fe7-40ed-a70d-9001da091ed9 button.colab-df-convert');\n",
              "      buttonEl.style.display =\n",
              "        google.colab.kernel.accessAllowed ? 'block' : 'none';\n",
              "\n",
              "      async function convertToInteractive(key) {\n",
              "        const element = document.querySelector('#df-b2c4d4b3-9fe7-40ed-a70d-9001da091ed9');\n",
              "        const dataTable =\n",
              "          await google.colab.kernel.invokeFunction('convertToInteractive',\n",
              "                                                    [key], {});\n",
              "        if (!dataTable) return;\n",
              "\n",
              "        const docLinkHtml = 'Like what you see? Visit the ' +\n",
              "          '<a target=\"_blank\" href=https://colab.research.google.com/notebooks/data_table.ipynb>data table notebook</a>'\n",
              "          + ' to learn more about interactive tables.';\n",
              "        element.innerHTML = '';\n",
              "        dataTable['output_type'] = 'display_data';\n",
              "        await google.colab.output.renderOutput(dataTable, element);\n",
              "        const docLink = document.createElement('div');\n",
              "        docLink.innerHTML = docLinkHtml;\n",
              "        element.appendChild(docLink);\n",
              "      }\n",
              "    </script>\n",
              "  </div>\n",
              "\n",
              "\n",
              "<div id=\"df-fb43ef37-a53f-49f3-8bcd-7729dacf2ddb\">\n",
              "  <button class=\"colab-df-quickchart\" onclick=\"quickchart('df-fb43ef37-a53f-49f3-8bcd-7729dacf2ddb')\"\n",
              "            title=\"Suggest charts\"\n",
              "            style=\"display:none;\">\n",
              "\n",
              "<svg xmlns=\"http://www.w3.org/2000/svg\" height=\"24px\"viewBox=\"0 0 24 24\"\n",
              "     width=\"24px\">\n",
              "    <g>\n",
              "        <path d=\"M19 3H5c-1.1 0-2 .9-2 2v14c0 1.1.9 2 2 2h14c1.1 0 2-.9 2-2V5c0-1.1-.9-2-2-2zM9 17H7v-7h2v7zm4 0h-2V7h2v10zm4 0h-2v-4h2v4z\"/>\n",
              "    </g>\n",
              "</svg>\n",
              "  </button>\n",
              "\n",
              "<style>\n",
              "  .colab-df-quickchart {\n",
              "      --bg-color: #E8F0FE;\n",
              "      --fill-color: #1967D2;\n",
              "      --hover-bg-color: #E2EBFA;\n",
              "      --hover-fill-color: #174EA6;\n",
              "      --disabled-fill-color: #AAA;\n",
              "      --disabled-bg-color: #DDD;\n",
              "  }\n",
              "\n",
              "  [theme=dark] .colab-df-quickchart {\n",
              "      --bg-color: #3B4455;\n",
              "      --fill-color: #D2E3FC;\n",
              "      --hover-bg-color: #434B5C;\n",
              "      --hover-fill-color: #FFFFFF;\n",
              "      --disabled-bg-color: #3B4455;\n",
              "      --disabled-fill-color: #666;\n",
              "  }\n",
              "\n",
              "  .colab-df-quickchart {\n",
              "    background-color: var(--bg-color);\n",
              "    border: none;\n",
              "    border-radius: 50%;\n",
              "    cursor: pointer;\n",
              "    display: none;\n",
              "    fill: var(--fill-color);\n",
              "    height: 32px;\n",
              "    padding: 0;\n",
              "    width: 32px;\n",
              "  }\n",
              "\n",
              "  .colab-df-quickchart:hover {\n",
              "    background-color: var(--hover-bg-color);\n",
              "    box-shadow: 0 1px 2px rgba(60, 64, 67, 0.3), 0 1px 3px 1px rgba(60, 64, 67, 0.15);\n",
              "    fill: var(--button-hover-fill-color);\n",
              "  }\n",
              "\n",
              "  .colab-df-quickchart-complete:disabled,\n",
              "  .colab-df-quickchart-complete:disabled:hover {\n",
              "    background-color: var(--disabled-bg-color);\n",
              "    fill: var(--disabled-fill-color);\n",
              "    box-shadow: none;\n",
              "  }\n",
              "\n",
              "  .colab-df-spinner {\n",
              "    border: 2px solid var(--fill-color);\n",
              "    border-color: transparent;\n",
              "    border-bottom-color: var(--fill-color);\n",
              "    animation:\n",
              "      spin 1s steps(1) infinite;\n",
              "  }\n",
              "\n",
              "  @keyframes spin {\n",
              "    0% {\n",
              "      border-color: transparent;\n",
              "      border-bottom-color: var(--fill-color);\n",
              "      border-left-color: var(--fill-color);\n",
              "    }\n",
              "    20% {\n",
              "      border-color: transparent;\n",
              "      border-left-color: var(--fill-color);\n",
              "      border-top-color: var(--fill-color);\n",
              "    }\n",
              "    30% {\n",
              "      border-color: transparent;\n",
              "      border-left-color: var(--fill-color);\n",
              "      border-top-color: var(--fill-color);\n",
              "      border-right-color: var(--fill-color);\n",
              "    }\n",
              "    40% {\n",
              "      border-color: transparent;\n",
              "      border-right-color: var(--fill-color);\n",
              "      border-top-color: var(--fill-color);\n",
              "    }\n",
              "    60% {\n",
              "      border-color: transparent;\n",
              "      border-right-color: var(--fill-color);\n",
              "    }\n",
              "    80% {\n",
              "      border-color: transparent;\n",
              "      border-right-color: var(--fill-color);\n",
              "      border-bottom-color: var(--fill-color);\n",
              "    }\n",
              "    90% {\n",
              "      border-color: transparent;\n",
              "      border-bottom-color: var(--fill-color);\n",
              "    }\n",
              "  }\n",
              "</style>\n",
              "\n",
              "  <script>\n",
              "    async function quickchart(key) {\n",
              "      const quickchartButtonEl =\n",
              "        document.querySelector('#' + key + ' button');\n",
              "      quickchartButtonEl.disabled = true;  // To prevent multiple clicks.\n",
              "      quickchartButtonEl.classList.add('colab-df-spinner');\n",
              "      try {\n",
              "        const charts = await google.colab.kernel.invokeFunction(\n",
              "            'suggestCharts', [key], {});\n",
              "      } catch (error) {\n",
              "        console.error('Error during call to suggestCharts:', error);\n",
              "      }\n",
              "      quickchartButtonEl.classList.remove('colab-df-spinner');\n",
              "      quickchartButtonEl.classList.add('colab-df-quickchart-complete');\n",
              "    }\n",
              "    (() => {\n",
              "      let quickchartButtonEl =\n",
              "        document.querySelector('#df-fb43ef37-a53f-49f3-8bcd-7729dacf2ddb button');\n",
              "      quickchartButtonEl.style.display =\n",
              "        google.colab.kernel.accessAllowed ? 'block' : 'none';\n",
              "    })();\n",
              "  </script>\n",
              "</div>\n",
              "\n",
              "    </div>\n",
              "  </div>\n"
            ],
            "application/vnd.google.colaboratory.intrinsic+json": {
              "type": "dataframe",
              "variable_name": "df",
              "summary": "{\n  \"name\": \"df\",\n  \"rows\": 24,\n  \"fields\": [\n    {\n      \"column\": \"team\",\n      \"properties\": {\n        \"dtype\": \"string\",\n        \"num_unique_values\": 24,\n        \"samples\": [\n          \"Everton\",\n          \"Leeds United\",\n          \"Manchester City\"\n        ],\n        \"semantic_type\": \"\",\n        \"description\": \"\"\n      }\n    },\n    {\n      \"column\": \"goals_scored\",\n      \"properties\": {\n        \"dtype\": \"number\",\n        \"std\": 41,\n        \"min\": 35,\n        \"max\": 179,\n        \"num_unique_values\": 23,\n        \"samples\": [\n          62,\n          98,\n          179\n        ],\n        \"semantic_type\": \"\",\n        \"description\": \"\"\n      }\n    },\n    {\n      \"column\": \"goals_conceded\",\n      \"properties\": {\n        \"dtype\": \"number\",\n        \"std\": 29,\n        \"min\": 50,\n        \"max\": 167,\n        \"num_unique_values\": 20,\n        \"samples\": [\n          66,\n          167,\n          67\n        ],\n        \"semantic_type\": \"\",\n        \"description\": \"\"\n      }\n    },\n    {\n      \"column\": \"wins\",\n      \"properties\": {\n        \"dtype\": \"number\",\n        \"std\": 13,\n        \"min\": 5,\n        \"max\": 55,\n        \"num_unique_values\": 20,\n        \"samples\": [\n          55,\n          9,\n          12\n        ],\n        \"semantic_type\": \"\",\n        \"description\": \"\"\n      }\n    },\n    {\n      \"column\": \"draws\",\n      \"properties\": {\n        \"dtype\": \"number\",\n        \"std\": 5,\n        \"min\": 5,\n        \"max\": 26,\n        \"num_unique_values\": 15,\n        \"samples\": [\n          6,\n          9,\n          12\n        ],\n        \"semantic_type\": \"\",\n        \"description\": \"\"\n      }\n    },\n    {\n      \"column\": \"losses\",\n      \"properties\": {\n        \"dtype\": \"number\",\n        \"std\": 10,\n        \"min\": 9,\n        \"max\": 57,\n        \"num_unique_values\": 18,\n        \"samples\": [\n          9,\n          13,\n          33\n        ],\n        \"semantic_type\": \"\",\n        \"description\": \"\"\n      }\n    },\n    {\n      \"column\": \"points\",\n      \"properties\": {\n        \"dtype\": \"number\",\n        \"std\": 44,\n        \"min\": 26,\n        \"max\": 177,\n        \"num_unique_values\": 22,\n        \"samples\": [\n          177,\n          75,\n          107\n        ],\n        \"semantic_type\": \"\",\n        \"description\": \"\"\n      }\n    },\n    {\n      \"column\": \"goal_difference\",\n      \"properties\": {\n        \"dtype\": \"number\",\n        \"std\": 47,\n        \"min\": -112,\n        \"max\": 113,\n        \"num_unique_values\": 22,\n        \"samples\": [\n          113,\n          18,\n          7\n        ],\n        \"semantic_type\": \"\",\n        \"description\": \"\"\n      }\n    },\n    {\n      \"column\": \"rank\",\n      \"properties\": {\n        \"dtype\": \"number\",\n        \"std\": 7,\n        \"min\": 1,\n        \"max\": 24,\n        \"num_unique_values\": 24,\n        \"samples\": [\n          9,\n          17,\n          1\n        ],\n        \"semantic_type\": \"\",\n        \"description\": \"\"\n      }\n    }\n  ]\n}"
            }
          },
          "metadata": {},
          "execution_count": 18
        }
      ]
    },
    {
      "cell_type": "code",
      "source": [
        "#Creating a dataframe from your CSV file:\n",
        "print(df)"
      ],
      "metadata": {
        "colab": {
          "base_uri": "https://localhost:8080/"
        },
        "id": "v7T3S9YeV88l",
        "outputId": "fc14da51-4280-4583-ec59-c4d421deeb53"
      },
      "execution_count": null,
      "outputs": [
        {
          "output_type": "stream",
          "name": "stdout",
          "text": [
            "                        team  goals_scored  goals_conceded  wins  draws  \\\n",
            "0            Manchester City           179              66    55     12   \n",
            "1                  Liverpool           154              83    44     19   \n",
            "2                    Arsenal           146              68    46     12   \n",
            "3          Manchester United           130             102    39     17   \n",
            "4                    Chelsea           135              99    37     19   \n",
            "5          Tottenham Hotspur           142             106    38     14   \n",
            "6                Aston Villa           131             107    36     15   \n",
            "7            West Ham United           122             121    33     18   \n",
            "8                    Everton            87              99    30     17   \n",
            "9           Newcastle United           131             124    30     15   \n",
            "10            Crystal Palace            98             124    25     18   \n",
            "11   Wolverhampton Wanderers            86             117    25     16   \n",
            "12  Brighton and Hove Albion            95             108    21     26   \n",
            "13                    Fulham            82             114    18     21   \n",
            "14            Leicester City            68              50    20      6   \n",
            "15                   Burnley            74             133    15     18   \n",
            "16              Leeds United            62              54    18      5   \n",
            "17               Bournemouth            54              67    13      9   \n",
            "18               Southampton            47              68    12      7   \n",
            "19                 Brentford            56              65    10      9   \n",
            "20          Sheffield United            55             167    10      9   \n",
            "21         Nottingham Forest            49              67     9      9   \n",
            "22                Luton Town            52              85     6      8   \n",
            "23      West Bromwich Albion            35              76     5     11   \n",
            "\n",
            "    losses  points  goal_difference  rank  \n",
            "0        9     177              113     1  \n",
            "1       13     151               71     2  \n",
            "2       18     150               78     3  \n",
            "3       20     134               28     4  \n",
            "4       20     130               36     5  \n",
            "5       24     128               36     6  \n",
            "6       25     123               24     7  \n",
            "7       25     117                1     8  \n",
            "8       29     107              -12     9  \n",
            "9       31     105                7    10  \n",
            "10      33      93              -26    11  \n",
            "11      35      91              -31    12  \n",
            "12      29      89              -13    13  \n",
            "13      37      75              -32    14  \n",
            "14      12      66               18    15  \n",
            "15      43      63              -59    16  \n",
            "16      15      59                8    17  \n",
            "17      16      48              -13    18  \n",
            "18      19      43              -21    19  \n",
            "19      19      39               -9    20  \n",
            "20      57      39             -112    21  \n",
            "21      20      36              -18    22  \n",
            "22      24      26              -33    23  \n",
            "23      22      26              -41    24  \n"
          ]
        }
      ]
    },
    {
      "cell_type": "code",
      "source": [
        "#Creating a dictionary with lists:\n",
        "data = {\n",
        "    'team': ['Manchester City', 'Liverpool', 'Arsenal', 'Manchester United', 'Chelsea'],\n",
        "    'goals_scored': [179, 154, 146, 130, 135],\n",
        "    'goals_conceded': [66, 83, 68, 102, 99],\n",
        "    'wins': [55, 44, 46, 39, 37],\n",
        "    'draws': [12, 19, 12, 17, 19],\n",
        "    'losses':\t[9, 13, 18, 20, 20],\n",
        "    'points':\t[177, 151, 150, 134, 130],\n",
        "    'goal_difference': [113, 71, 78, 28, 36],\n",
        "    'rank': [1, 2, 3, 4, 5]Z\n",
        "}\n",
        "\n",
        "df = pd.DataFrame(data)\n",
        "print(df)"
      ],
      "metadata": {
        "colab": {
          "base_uri": "https://localhost:8080/"
        },
        "id": "lez1oBxQWv10",
        "outputId": "1012ba6a-4801-40b9-ce22-6b5ec7d64417"
      },
      "execution_count": null,
      "outputs": [
        {
          "output_type": "stream",
          "name": "stdout",
          "text": [
            "                team  goals_scored  goals_conceded  wins  draws  losses  \\\n",
            "0    Manchester City           179              66    55     12       9   \n",
            "1          Liverpool           154              83    44     19      13   \n",
            "2            Arsenal           146              68    46     12      18   \n",
            "3  Manchester United           130             102    39     17      20   \n",
            "4            Chelsea           135              99    37     19      20   \n",
            "\n",
            "   points  goal_difference  rank  \n",
            "0     177              113     1  \n",
            "1     151               71     2  \n",
            "2     150               78     3  \n",
            "3     134               28     4  \n",
            "4     130               36     5  \n"
          ]
        }
      ]
    },
    {
      "cell_type": "code",
      "source": [
        "#Creating a dataframe from a list of dictionaries:\n",
        "data = [\n",
        "    {'team': 'Manchester City', 'goals_scored': 179, 'goals_conceded': 66, 'wins': 55, 'draws': 12, 'losses': 9, 'points': 177, 'goal_difference': 113, 'rank': 1},\n",
        "    {'team': 'Liverpool', 'goals_scored': 154, 'goals_conceded': 83, 'wins': 44, 'draws': 19, 'losses': 13, 'points': 151, 'goal_difference': 71, 'rank': 2},\n",
        "    {'team': 'Arsenal', 'goals_scored': 146, 'goals_conceded': 68, 'wins': 46, 'draws': 12, 'losses': 18, 'points': 150, 'goal_difference': 78, 'rank': 3},\n",
        "    {'team': 'Manchester United', 'goals_scored': 130, 'goals_conceded': 102, 'wins': 39, 'draws': 17, 'losses': 20, 'points': 134, 'goal_difference': 28, 'rank': 4},\n",
        "    {'team': 'Chelsea', 'goals_scored': 135, 'goals_conceded': 99, 'wins': 37, 'draws': 19, 'losses': 20, 'points': 130, 'goal_difference': 36, 'rank': 5},\n",
        "]\n",
        "\n",
        "df = pd.DataFrame(data)\n",
        "print(df)"
      ],
      "metadata": {
        "colab": {
          "base_uri": "https://localhost:8080/"
        },
        "id": "kbspbAVvZ-wu",
        "outputId": "02025130-6342-41a9-8d1b-5f48c13091d2"
      },
      "execution_count": null,
      "outputs": [
        {
          "output_type": "stream",
          "name": "stdout",
          "text": [
            "                team  goals_scored  goals_conceded  wins  draws  losses  \\\n",
            "0    Manchester City           179              66    55     12       9   \n",
            "1          Liverpool           154              83    44     19      13   \n",
            "2            Arsenal           146              68    46     12      18   \n",
            "3  Manchester United           130             102    39     17      20   \n",
            "4            Chelsea           135              99    37     19      20   \n",
            "\n",
            "   points  goal_difference  rank  \n",
            "0     177              113     1  \n",
            "1     151               71     2  \n",
            "2     150               78     3  \n",
            "3     134               28     4  \n",
            "4     130               36     5  \n"
          ]
        }
      ]
    },
    {
      "cell_type": "code",
      "source": [
        "#Selecting dataframe columns:\n",
        "single_column = df['team']\n",
        "print(single_column)\n"
      ],
      "metadata": {
        "colab": {
          "base_uri": "https://localhost:8080/"
        },
        "id": "xI8rJsmXbzr0",
        "outputId": "df642a0c-84f9-4036-c269-12235b747661"
      },
      "execution_count": null,
      "outputs": [
        {
          "output_type": "stream",
          "name": "stdout",
          "text": [
            "0      Manchester City\n",
            "1            Liverpool\n",
            "2              Arsenal\n",
            "3    Manchester United\n",
            "4              Chelsea\n",
            "Name: team, dtype: object\n"
          ]
        }
      ]
    },
    {
      "cell_type": "code",
      "source": [
        "multiple_columns = df[['team', 'wins']]\n",
        "\n",
        "print(multiple_columns)"
      ],
      "metadata": {
        "colab": {
          "base_uri": "https://localhost:8080/"
        },
        "id": "vNLaiIa3d4l0",
        "outputId": "4720cc49-53eb-4e4f-9129-17974f680392"
      },
      "execution_count": null,
      "outputs": [
        {
          "output_type": "stream",
          "name": "stdout",
          "text": [
            "                team  wins\n",
            "0    Manchester City    55\n",
            "1          Liverpool    44\n",
            "2            Arsenal    46\n",
            "3  Manchester United    39\n",
            "4            Chelsea    37\n"
          ]
        }
      ]
    },
    {
      "cell_type": "code",
      "source": [
        "#Creating Single Rows using python indexing\n",
        "single_row_python = df[2:3]\n",
        "print(single_row_python)\n"
      ],
      "metadata": {
        "colab": {
          "base_uri": "https://localhost:8080/"
        },
        "id": "5maKAv7ueljs",
        "outputId": "f0c2748f-c5dd-4727-9d95-e1964e795d18"
      },
      "execution_count": null,
      "outputs": [
        {
          "output_type": "stream",
          "name": "stdout",
          "text": [
            "      team  goals_scored  goals_conceded  wins  draws  losses  points  \\\n",
            "2  Arsenal           146              68    46     12      18     150   \n",
            "\n",
            "   goal_difference  rank  \n",
            "2               78     3  \n"
          ]
        }
      ]
    },
    {
      "cell_type": "code",
      "source": [
        "#Creating Single Rows using python indexing\n",
        "multiple_rows = df[1:4]\n",
        "print(multiple_rows)"
      ],
      "metadata": {
        "colab": {
          "base_uri": "https://localhost:8080/"
        },
        "id": "_odYsMmKfNNz",
        "outputId": "278cec28-8b53-424b-8f58-ef72c5c22538"
      },
      "execution_count": null,
      "outputs": [
        {
          "output_type": "stream",
          "name": "stdout",
          "text": [
            "                team  goals_scored  goals_conceded  wins  draws  losses  \\\n",
            "1          Liverpool           154              83    44     19      13   \n",
            "2            Arsenal           146              68    46     12      18   \n",
            "3  Manchester United           130             102    39     17      20   \n",
            "\n",
            "   points  goal_difference  rank  \n",
            "1     151               71     2  \n",
            "2     150               78     3  \n",
            "3     134               28     4  \n"
          ]
        }
      ]
    },
    {
      "cell_type": "code",
      "source": [
        "single_row_pandas = df.iloc[[0]]\n",
        "print(single_row_pandas)"
      ],
      "metadata": {
        "colab": {
          "base_uri": "https://localhost:8080/"
        },
        "id": "PxA8tVZdhIEk",
        "outputId": "5a49fe1f-8eac-4a0a-f8ed-fc799e64a9c3"
      },
      "execution_count": null,
      "outputs": [
        {
          "output_type": "stream",
          "name": "stdout",
          "text": [
            "              team  goals_scored  goals_conceded  wins  draws  losses  points  \\\n",
            "0  Manchester City           179              66    55     12       9     177   \n",
            "\n",
            "   goal_difference  rank  \n",
            "0              113     1  \n"
          ]
        }
      ]
    },
    {
      "cell_type": "code",
      "source": [
        "multiple_rows_pandas = df.iloc[[0, 1, 2]]\n",
        "print(multiple_rows_pandas)"
      ],
      "metadata": {
        "colab": {
          "base_uri": "https://localhost:8080/"
        },
        "id": "qF2mOI_MhcGt",
        "outputId": "acb6a468-7229-4526-d92e-9fd48a73b312"
      },
      "execution_count": null,
      "outputs": [
        {
          "output_type": "stream",
          "name": "stdout",
          "text": [
            "              team  goals_scored  goals_conceded  wins  draws  losses  points  \\\n",
            "0  Manchester City           179              66    55     12       9     177   \n",
            "1        Liverpool           154              83    44     19      13     151   \n",
            "2          Arsenal           146              68    46     12      18     150   \n",
            "\n",
            "   goal_difference  rank  \n",
            "0              113     1  \n",
            "1               71     2  \n",
            "2               78     3  \n"
          ]
        }
      ]
    }
  ]
}