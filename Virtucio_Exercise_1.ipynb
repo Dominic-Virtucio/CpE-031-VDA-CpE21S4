{
  "nbformat": 4,
  "nbformat_minor": 0,
  "metadata": {
    "colab": {
      "provenance": [],
      "toc_visible": true,
      "authorship_tag": "ABX9TyMe23cmwct9HFNjd9GJDHr0",
      "include_colab_link": true
    },
    "kernelspec": {
      "name": "python3",
      "display_name": "Python 3"
    },
    "language_info": {
      "name": "python"
    }
  },
  "cells": [
    {
      "cell_type": "markdown",
      "metadata": {
        "id": "view-in-github",
        "colab_type": "text"
      },
      "source": [
        "<a href=\"https://colab.research.google.com/github/dmncjsph/CpE-031-VDA-CpE21S4/blob/main/Virtucio_Exercise_1_VDA.ipynb\" target=\"_parent\"><img src=\"https://colab.research.google.com/assets/colab-badge.svg\" alt=\"Open In Colab\"/></a>"
      ]
    },
    {
      "cell_type": "markdown",
      "source": [
        "#Exercise 1"
      ],
      "metadata": {
        "id": "Qlj0rFRlD283"
      }
    },
    {
      "cell_type": "markdown",
      "source": [
        "##Variables and Data Types"
      ],
      "metadata": {
        "id": "4_lAOx1cFi5e"
      }
    },
    {
      "cell_type": "code",
      "source": [
        "##Numbers\n",
        "\n",
        "varNum = 123\n",
        "pi = 3.14159\n",
        "\n",
        "##Strings\n",
        "\n",
        "varString= \"Hello World!\"\n",
        "\n",
        "varText = 'This is a String'\n",
        "\n",
        "##List\n",
        "varlist = [\"abc\",123]\n",
        "\n",
        "##Tuples\n",
        "varTuple = ('abc', 123, \"HELLO\")\n",
        "\n",
        "##Dictionaries\n",
        "var=3\n",
        "varDict = {'first':1, '2':'2nd', 3:var}\n",
        "\n",
        "varDict ={}\n",
        "varDict ['first'] = 1\n",
        "varDict['2nd'] = 2\n",
        "varDict[3] = var\n",
        "\n"
      ],
      "metadata": {
        "id": "By9Fyi61Fgc3"
      },
      "execution_count": null,
      "outputs": []
    },
    {
      "cell_type": "markdown",
      "source": [
        "##Arithmetic"
      ],
      "metadata": {
        "id": "840KiyCnFu2W"
      }
    },
    {
      "cell_type": "code",
      "source": [
        "## Additon\n",
        "a=5+3\n",
        "print(a)\n"
      ],
      "metadata": {
        "colab": {
          "base_uri": "https://localhost:8080/"
        },
        "id": "GTMfxshTFtDn",
        "outputId": "c5e3873b-a400-47a7-a7ad-3fb93e65695d"
      },
      "execution_count": 72,
      "outputs": [
        {
          "output_type": "stream",
          "name": "stdout",
          "text": [
            "8\n"
          ]
        }
      ]
    },
    {
      "cell_type": "code",
      "source": [
        "## Subtraction\n",
        "a=5-3\n",
        "print(a)\n",
        "\n"
      ],
      "metadata": {
        "colab": {
          "base_uri": "https://localhost:8080/"
        },
        "id": "8fNZd7AZF9QX",
        "outputId": "c381c064-48ca-49d1-b16e-c489f9ac3c3f"
      },
      "execution_count": 73,
      "outputs": [
        {
          "output_type": "stream",
          "name": "stdout",
          "text": [
            "2\n"
          ]
        }
      ]
    },
    {
      "cell_type": "code",
      "source": [
        "## Multiplication\n",
        "a = 5 * 3\n",
        "print(a)\n",
        "\n"
      ],
      "metadata": {
        "colab": {
          "base_uri": "https://localhost:8080/"
        },
        "id": "CSaxTnLfF_TH",
        "outputId": "31e4e76d-20a2-451a-bcc4-c26320099219"
      },
      "execution_count": 74,
      "outputs": [
        {
          "output_type": "stream",
          "name": "stdout",
          "text": [
            "15\n"
          ]
        }
      ]
    },
    {
      "cell_type": "code",
      "source": [
        "## Exponent\n",
        "a = 5 ** 3\n",
        "print(a)\n",
        "\n"
      ],
      "metadata": {
        "colab": {
          "base_uri": "https://localhost:8080/"
        },
        "id": "zd95wA6tGD6f",
        "outputId": "454d9b2d-4a45-4660-b52c-b194864c5eaa"
      },
      "execution_count": 75,
      "outputs": [
        {
          "output_type": "stream",
          "name": "stdout",
          "text": [
            "125\n"
          ]
        }
      ]
    },
    {
      "cell_type": "markdown",
      "source": [],
      "metadata": {
        "id": "-qMWkRkbFs1n"
      }
    },
    {
      "cell_type": "code",
      "source": [
        "##Division\n",
        "a = 5/3\n",
        "\n",
        "print(a)\n",
        "\n",
        "\n",
        "\n"
      ],
      "metadata": {
        "colab": {
          "base_uri": "https://localhost:8080/"
        },
        "id": "QeNjlTYfGGEH",
        "outputId": "2c7bfd54-9491-4762-97f7-326d5f255b9d"
      },
      "execution_count": 77,
      "outputs": [
        {
          "output_type": "stream",
          "name": "stdout",
          "text": [
            "1.6666666666666667\n"
          ]
        }
      ]
    },
    {
      "cell_type": "code",
      "source": [
        "a = 5%3\n",
        "print(a)"
      ],
      "metadata": {
        "colab": {
          "base_uri": "https://localhost:8080/"
        },
        "id": "bH2x-EnBG4l-",
        "outputId": "20a878fd-cf4f-4976-b788-6f05ab0d1842"
      },
      "execution_count": 78,
      "outputs": [
        {
          "output_type": "stream",
          "name": "stdout",
          "text": [
            "2\n"
          ]
        }
      ]
    },
    {
      "cell_type": "markdown",
      "source": [],
      "metadata": {
        "id": "jFmwExS9GJ-P"
      }
    },
    {
      "cell_type": "code",
      "source": [
        "##Numbers\n",
        "\n",
        "varNum = 123\n",
        "pi = 3.14159"
      ],
      "metadata": {
        "id": "Xvn3g3FQ-XIA"
      },
      "execution_count": 14,
      "outputs": []
    },
    {
      "cell_type": "markdown",
      "source": [
        "## Control Structures and Data Structures"
      ],
      "metadata": {
        "id": "LeGecFUWGPkW"
      }
    },
    {
      "cell_type": "code",
      "source": [
        "##Increment/Decrement\n",
        "a=5\n",
        "\n",
        "a+=5\n",
        "print(a)\n",
        "\n"
      ],
      "metadata": {
        "colab": {
          "base_uri": "https://localhost:8080/"
        },
        "id": "aA2GoEw0-kNa",
        "outputId": "77bdf669-1270-4b98-efcb-6705a77356db"
      },
      "execution_count": 71,
      "outputs": [
        {
          "output_type": "stream",
          "name": "stdout",
          "text": [
            "10\n"
          ]
        }
      ]
    },
    {
      "cell_type": "code",
      "source": [
        "##Decrement\n",
        "a = 5\n",
        "\n",
        "a -= 1\n",
        "print(a)\n",
        "\n"
      ],
      "metadata": {
        "colab": {
          "base_uri": "https://localhost:8080/"
        },
        "id": "hB9sxY1zGen3",
        "outputId": "91d1aab2-bc9f-4536-fa05-473993031ec9"
      },
      "execution_count": 70,
      "outputs": [
        {
          "output_type": "stream",
          "name": "stdout",
          "text": [
            "4\n"
          ]
        }
      ]
    },
    {
      "cell_type": "code",
      "source": [
        "##String Concatenation\n",
        "a = 'Hello ' + 'World!'\n",
        "print(a)\n",
        "\n"
      ],
      "metadata": {
        "colab": {
          "base_uri": "https://localhost:8080/"
        },
        "id": "--OLVWhcGhhV",
        "outputId": "aaec2f18-d892-4226-bfc2-8b16b19c6238"
      },
      "execution_count": 69,
      "outputs": [
        {
          "output_type": "stream",
          "name": "stdout",
          "text": [
            "Hello World!\n"
          ]
        }
      ]
    },
    {
      "cell_type": "code",
      "source": [
        "##Complex Expression\n",
        "a = 3 + 5 - 6 * 2 / 4\n",
        "5.0"
      ],
      "metadata": {
        "id": "552gMVzaGj4e"
      },
      "execution_count": null,
      "outputs": []
    },
    {
      "cell_type": "markdown",
      "source": [
        "##Condtional Statements"
      ],
      "metadata": {
        "id": "jl1lO_WkDF5Y"
      }
    },
    {
      "cell_type": "code",
      "source": [
        "##Boolean COndition\n",
        "x= True\n",
        "\n",
        "if x:\n",
        "\n",
        "  print (\"var is True\")\n",
        "\n",
        "else:\n",
        "\n",
        "  print(\"var is False\")"
      ],
      "metadata": {
        "colab": {
          "base_uri": "https://localhost:8080/"
        },
        "id": "Qy-WaTtc78UU",
        "outputId": "493e2e39-84e8-4567-f664-95287b082d93"
      },
      "execution_count": 2,
      "outputs": [
        {
          "output_type": "stream",
          "name": "stdout",
          "text": [
            "var is True\n"
          ]
        }
      ]
    },
    {
      "cell_type": "code",
      "source": [
        "##String Condition\n",
        "x = \"Hello World!\"\n",
        "if x =='Hello World!':\n",
        "  print(\"var x is Hello World!\")\n",
        "else:\n",
        "   print(\"var x is not Hello World!\")"
      ],
      "metadata": {
        "colab": {
          "base_uri": "https://localhost:8080/"
        },
        "id": "4VGMba1n7aDD",
        "outputId": "56420c19-16a1-45d3-e5a1-69585c7c1829"
      },
      "execution_count": 3,
      "outputs": [
        {
          "output_type": "stream",
          "name": "stdout",
          "text": [
            "var x is Hello World!\n"
          ]
        }
      ]
    },
    {
      "cell_type": "markdown",
      "source": [
        "\n",
        "\n",
        "\n",
        "\n"
      ],
      "metadata": {
        "id": "2rfYu2L_25FD"
      }
    },
    {
      "cell_type": "code",
      "source": [
        "##Numerical COnditions\n",
        "x=10\n",
        "if x == '10':\n",
        "  print(\"var x is a string\")\n",
        "elif x ==10:\n",
        "  print(\"var x is an integer\")\n",
        "else:\n",
        "  (\"var x is none of the above\")"
      ],
      "metadata": {
        "colab": {
          "base_uri": "https://localhost:8080/"
        },
        "id": "4D6ge5zn3fpk",
        "outputId": "ebf16738-fc28-4ee5-880a-eac6bd61bfab"
      },
      "execution_count": 4,
      "outputs": [
        {
          "output_type": "stream",
          "name": "stdout",
          "text": [
            "var x is an integer\n"
          ]
        }
      ]
    },
    {
      "cell_type": "markdown",
      "source": [],
      "metadata": {
        "id": "gHfCvYN-3gab"
      }
    },
    {
      "cell_type": "markdown",
      "source": [
        "##Loops"
      ],
      "metadata": {
        "id": "v3HktyTaDYDw"
      }
    },
    {
      "cell_type": "code",
      "source": [
        "##For Loops\n",
        "for var in range(0, 5, 2):\n",
        "  print(var)"
      ],
      "metadata": {
        "colab": {
          "base_uri": "https://localhost:8080/"
        },
        "id": "a0hiv5zu3gmD",
        "outputId": "8cdb2086-7ea7-4bba-e883-b995d7fb3a79"
      },
      "execution_count": 9,
      "outputs": [
        {
          "output_type": "stream",
          "name": "stdout",
          "text": [
            "0\n",
            "2\n",
            "4\n"
          ]
        }
      ]
    },
    {
      "cell_type": "markdown",
      "source": [],
      "metadata": {
        "id": "xAuRgA-s3hj0"
      }
    },
    {
      "cell_type": "code",
      "source": [
        "##Whie Loops\n",
        "var = 0\n",
        "while var < 5:\n",
        "  print(var)\n",
        "  var += 2"
      ],
      "metadata": {
        "colab": {
          "base_uri": "https://localhost:8080/"
        },
        "id": "BBlOAYan9ssh",
        "outputId": "f4c9edb0-9286-4b5b-fcd0-50383010b636"
      },
      "execution_count": 12,
      "outputs": [
        {
          "output_type": "stream",
          "name": "stdout",
          "text": [
            "0\n",
            "2\n",
            "4\n"
          ]
        }
      ]
    },
    {
      "cell_type": "code",
      "source": [
        "x=0\n",
        "while x < 5:\n",
        "  for y in range (0, x):\n",
        "    print(y, end='')\n",
        "  x+=1\n",
        "  print()"
      ],
      "metadata": {
        "colab": {
          "base_uri": "https://localhost:8080/"
        },
        "id": "Dn9MqpmY-DMp",
        "outputId": "68c4baa1-7823-4f12-908e-eee280855350"
      },
      "execution_count": 13,
      "outputs": [
        {
          "output_type": "stream",
          "name": "stdout",
          "text": [
            "\n",
            "0\n",
            "01\n",
            "012\n",
            "0123\n"
          ]
        }
      ]
    },
    {
      "cell_type": "markdown",
      "source": [
        "##Lists"
      ],
      "metadata": {
        "id": "wYhc5-GtDRvY"
      }
    },
    {
      "cell_type": "code",
      "source": [
        "pi=3.14159\n",
        "varList=[1,2,'A','B','Hello!', pi]\n",
        "print(varList[0])"
      ],
      "metadata": {
        "colab": {
          "base_uri": "https://localhost:8080/"
        },
        "id": "1tFMLzfqABFA",
        "outputId": "c39448a5-9181-4354-bc42-9cae515af4ab"
      },
      "execution_count": 19,
      "outputs": [
        {
          "output_type": "stream",
          "name": "stdout",
          "text": [
            "1\n"
          ]
        }
      ]
    },
    {
      "cell_type": "code",
      "source": [
        "print(varList[4])"
      ],
      "metadata": {
        "colab": {
          "base_uri": "https://localhost:8080/"
        },
        "id": "XIkJmuIoAaQo",
        "outputId": "bf48490e-e069-485e-8da6-0bb223b9eb88"
      },
      "execution_count": 21,
      "outputs": [
        {
          "output_type": "stream",
          "name": "stdout",
          "text": [
            "Hello\n"
          ]
        }
      ]
    },
    {
      "cell_type": "code",
      "source": [
        "varList.append('World!')\n",
        "print(varList[6])"
      ],
      "metadata": {
        "colab": {
          "base_uri": "https://localhost:8080/"
        },
        "id": "XHOt2I8XAj0Y",
        "outputId": "ef74a078-126e-4afb-9adb-ef678e91466b"
      },
      "execution_count": 22,
      "outputs": [
        {
          "output_type": "stream",
          "name": "stdout",
          "text": [
            "World!\n"
          ]
        }
      ]
    },
    {
      "cell_type": "code",
      "source": [
        "len(varList)"
      ],
      "metadata": {
        "colab": {
          "base_uri": "https://localhost:8080/"
        },
        "id": "BoKu9E2PA0-w",
        "outputId": "16243e1f-0297-4a40-9c96-a90e824de2df"
      },
      "execution_count": 23,
      "outputs": [
        {
          "output_type": "execute_result",
          "data": {
            "text/plain": [
              "7"
            ]
          },
          "metadata": {},
          "execution_count": 23
        }
      ]
    },
    {
      "cell_type": "code",
      "source": [
        "print(varList[5])"
      ],
      "metadata": {
        "colab": {
          "base_uri": "https://localhost:8080/"
        },
        "id": "wHT9aqoZA4Qw",
        "outputId": "51285ae8-4052-489c-935a-215a56dab69d"
      },
      "execution_count": 24,
      "outputs": [
        {
          "output_type": "stream",
          "name": "stdout",
          "text": [
            "3.14159\n"
          ]
        }
      ]
    },
    {
      "cell_type": "code",
      "source": [
        "varList.remove(pi)\n",
        "print(varList[5])"
      ],
      "metadata": {
        "colab": {
          "base_uri": "https://localhost:8080/"
        },
        "id": "VZv65CXYA9M4",
        "outputId": "ed147c0a-7824-4df9-b0e0-5be40f62e692"
      },
      "execution_count": 26,
      "outputs": [
        {
          "output_type": "stream",
          "name": "stdout",
          "text": [
            "World!\n"
          ]
        }
      ]
    },
    {
      "cell_type": "code",
      "source": [],
      "metadata": {
        "id": "Paskaem9BhZI"
      },
      "execution_count": null,
      "outputs": []
    },
    {
      "cell_type": "markdown",
      "source": [
        "## Dictionaries\n"
      ],
      "metadata": {
        "id": "dp10ljB7BogY"
      }
    },
    {
      "cell_type": "code",
      "source": [
        "var=\"Hello World!\"\n",
        "varDict = {'first' : 123, 2 : 'abc',\n",
        "           '3' : var, 4 : ['lista', 'listb']}\n",
        "print(varDict['first'])"
      ],
      "metadata": {
        "colab": {
          "base_uri": "https://localhost:8080/"
        },
        "id": "SYxYKQTIBsgf",
        "outputId": "802bffde-df1d-4938-cafc-8f1f2d5e6265"
      },
      "execution_count": 43,
      "outputs": [
        {
          "output_type": "stream",
          "name": "stdout",
          "text": [
            "123\n"
          ]
        }
      ]
    },
    {
      "cell_type": "code",
      "source": [
        "print(varDict[2])"
      ],
      "metadata": {
        "colab": {
          "base_uri": "https://localhost:8080/"
        },
        "id": "vBhhE3wGCU3B",
        "outputId": "ac5941b8-15ad-4110-d40f-cddfc2632ca3"
      },
      "execution_count": 44,
      "outputs": [
        {
          "output_type": "stream",
          "name": "stdout",
          "text": [
            "abc\n"
          ]
        }
      ]
    },
    {
      "cell_type": "code",
      "source": [
        "print(varDict[4])"
      ],
      "metadata": {
        "colab": {
          "base_uri": "https://localhost:8080/"
        },
        "id": "k3X34qPCC1ff",
        "outputId": "27151c47-2bee-4a2d-816d-401e67427226"
      },
      "execution_count": 45,
      "outputs": [
        {
          "output_type": "stream",
          "name": "stdout",
          "text": [
            "['lista', 'listb']\n"
          ]
        }
      ]
    },
    {
      "cell_type": "code",
      "source": [
        "print(varDict[4][1])"
      ],
      "metadata": {
        "colab": {
          "base_uri": "https://localhost:8080/"
        },
        "id": "CVx7dSSQC5X-",
        "outputId": "f9a89b9e-5bdd-4dee-aa3a-888c94d0a8b9"
      },
      "execution_count": 46,
      "outputs": [
        {
          "output_type": "stream",
          "name": "stdout",
          "text": [
            "listb\n"
          ]
        }
      ]
    },
    {
      "cell_type": "code",
      "source": [
        "len(varDict)"
      ],
      "metadata": {
        "colab": {
          "base_uri": "https://localhost:8080/"
        },
        "id": "5nYJC0XDC9In",
        "outputId": "d30699ff-4fbc-4145-e684-f128aedf9813"
      },
      "execution_count": 47,
      "outputs": [
        {
          "output_type": "execute_result",
          "data": {
            "text/plain": [
              "4"
            ]
          },
          "metadata": {},
          "execution_count": 47
        }
      ]
    },
    {
      "cell_type": "markdown",
      "source": [
        "##Generators and Comphrehension"
      ],
      "metadata": {
        "id": "DCOnUQZfEDkH"
      }
    },
    {
      "cell_type": "code",
      "source": [
        "def gen_num_up_to(n):\n",
        "  num=0\n",
        "  while num < n:\n",
        "    yield num\n",
        "    num += 1"
      ],
      "metadata": {
        "id": "_PZp6PzGEJjQ"
      },
      "execution_count": 49,
      "outputs": []
    },
    {
      "cell_type": "code",
      "source": [
        "gen_num_up_to(5)"
      ],
      "metadata": {
        "colab": {
          "base_uri": "https://localhost:8080/"
        },
        "id": "JYrQF6PIEgzn",
        "outputId": "96634a42-fa0f-4b70-f54e-30192b84cb93"
      },
      "execution_count": 50,
      "outputs": [
        {
          "output_type": "execute_result",
          "data": {
            "text/plain": [
              "<generator object gen_num_up_to at 0x7e3616c3ba00>"
            ]
          },
          "metadata": {},
          "execution_count": 50
        }
      ]
    },
    {
      "cell_type": "code",
      "source": [
        "varList = gen_num_up_to(5)\n",
        "print([var for var in varList])"
      ],
      "metadata": {
        "colab": {
          "base_uri": "https://localhost:8080/"
        },
        "id": "5pdNqVBBEk7_",
        "outputId": "c65da7dd-4d78-4a99-aeed-0a9da4ae91b8"
      },
      "execution_count": 51,
      "outputs": [
        {
          "output_type": "stream",
          "name": "stdout",
          "text": [
            "[0, 1, 2, 3, 4]\n"
          ]
        }
      ]
    },
    {
      "cell_type": "code",
      "source": [
        "def gen_num_up_to(n):\n",
        "  num = 0\n",
        "  while num < n:\n",
        "    yield num\n",
        "    num+= 2\n",
        "\n",
        "varList = gen_num_up_to(5)\n",
        "print([var for var in varList])"
      ],
      "metadata": {
        "colab": {
          "base_uri": "https://localhost:8080/"
        },
        "id": "a_BYxu4OEyo_",
        "outputId": "31d7b9d0-1634-42a0-c6d9-0b7caff843f6"
      },
      "execution_count": 52,
      "outputs": [
        {
          "output_type": "stream",
          "name": "stdout",
          "text": [
            "[0, 2, 4]\n"
          ]
        }
      ]
    },
    {
      "cell_type": "code",
      "source": [
        "varList = range(0, 5, 2)\n",
        "print([var for var in varList])"
      ],
      "metadata": {
        "colab": {
          "base_uri": "https://localhost:8080/"
        },
        "id": "1uK2yCu1FBxo",
        "outputId": "ec218a1e-e334-4bd4-90e6-71c3da1349bb"
      },
      "execution_count": 53,
      "outputs": [
        {
          "output_type": "stream",
          "name": "stdout",
          "text": [
            "[0, 2, 4]\n"
          ]
        }
      ]
    },
    {
      "cell_type": "markdown",
      "source": [
        "##Slicing"
      ],
      "metadata": {
        "id": "s1Y-yXpkHF0f"
      }
    },
    {
      "cell_type": "code",
      "source": [
        "varList = [1, 2, 3, 4, 5, 6, 7, 8, 9, 10]\n",
        "print(varList[:5])"
      ],
      "metadata": {
        "colab": {
          "base_uri": "https://localhost:8080/"
        },
        "id": "mRBQdxHRHKVu",
        "outputId": "effc8083-9fb5-48fc-e487-ab8b0f841331"
      },
      "execution_count": 80,
      "outputs": [
        {
          "output_type": "stream",
          "name": "stdout",
          "text": [
            "[1, 2, 3, 4, 5]\n"
          ]
        }
      ]
    },
    {
      "cell_type": "code",
      "source": [
        "print(varList[5:])"
      ],
      "metadata": {
        "colab": {
          "base_uri": "https://localhost:8080/"
        },
        "id": "Lsnxd4yIHg2-",
        "outputId": "34c0f845-b05d-48e3-b071-501922e197b1"
      },
      "execution_count": 81,
      "outputs": [
        {
          "output_type": "stream",
          "name": "stdout",
          "text": [
            "[6, 7, 8, 9, 10]\n"
          ]
        }
      ]
    },
    {
      "cell_type": "code",
      "source": [
        "print(varList[:-2])"
      ],
      "metadata": {
        "colab": {
          "base_uri": "https://localhost:8080/"
        },
        "id": "hAkUUfSZHit1",
        "outputId": "094c6b58-e5ba-4e5e-d93e-c63d848660a0"
      },
      "execution_count": 82,
      "outputs": [
        {
          "output_type": "stream",
          "name": "stdout",
          "text": [
            "[1, 2, 3, 4, 5, 6, 7, 8]\n"
          ]
        }
      ]
    },
    {
      "cell_type": "code",
      "source": [
        "print(varList[-2:])"
      ],
      "metadata": {
        "colab": {
          "base_uri": "https://localhost:8080/"
        },
        "id": "BzrM93aAHm-O",
        "outputId": "2d0ed584-37df-4f43-95f8-ac35b52157e9"
      },
      "execution_count": 83,
      "outputs": [
        {
          "output_type": "stream",
          "name": "stdout",
          "text": [
            "[9, 10]\n"
          ]
        }
      ]
    },
    {
      "cell_type": "code",
      "source": [
        "print(varList[2:-2])"
      ],
      "metadata": {
        "colab": {
          "base_uri": "https://localhost:8080/"
        },
        "id": "I_KVIG4AHq6-",
        "outputId": "325ee1e5-d535-4799-f112-c2e1c25682e6"
      },
      "execution_count": 84,
      "outputs": [
        {
          "output_type": "stream",
          "name": "stdout",
          "text": [
            "[3, 4, 5, 6, 7, 8]\n"
          ]
        }
      ]
    },
    {
      "cell_type": "code",
      "source": [
        "print(varList[2:8:2])"
      ],
      "metadata": {
        "colab": {
          "base_uri": "https://localhost:8080/"
        },
        "id": "J95_xBiXHu5V",
        "outputId": "b4d89eec-6dc0-4b0e-c23b-53512f52d86b"
      },
      "execution_count": 85,
      "outputs": [
        {
          "output_type": "stream",
          "name": "stdout",
          "text": [
            "[3, 5, 7]\n"
          ]
        }
      ]
    },
    {
      "cell_type": "markdown",
      "source": [
        "##Functions\n"
      ],
      "metadata": {
        "id": "iGeexa3hIJo2"
      }
    },
    {
      "cell_type": "code",
      "source": [
        "def remainder(n, m):\n",
        "  while True:\n",
        "    if n - m <0:\n",
        "      return n\n",
        "    else:\n",
        "      n = n - m\n",
        "\n",
        "remainder(10, 4)\n",
        "\n"
      ],
      "metadata": {
        "colab": {
          "base_uri": "https://localhost:8080/"
        },
        "id": "Ra32lH5LIYjV",
        "outputId": "74e43748-440e-4753-eb41-422537fa4a70"
      },
      "execution_count": 96,
      "outputs": [
        {
          "output_type": "execute_result",
          "data": {
            "text/plain": [
              "2"
            ]
          },
          "metadata": {},
          "execution_count": 96
        }
      ]
    }
  ]
}
