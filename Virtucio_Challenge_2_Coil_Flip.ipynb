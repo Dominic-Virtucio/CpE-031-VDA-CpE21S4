{
  "nbformat": 4,
  "nbformat_minor": 0,
  "metadata": {
    "colab": {
      "provenance": [],
      "authorship_tag": "ABX9TyOyOaBq3dGhyMm1P0RZWPlp",
      "include_colab_link": true
    },
    "kernelspec": {
      "name": "python3",
      "display_name": "Python 3"
    },
    "language_info": {
      "name": "python"
    }
  },
  "cells": [
    {
      "cell_type": "markdown",
      "metadata": {
        "id": "view-in-github",
        "colab_type": "text"
      },
      "source": [
        "<a href=\"https://colab.research.google.com/github/dmncjsph/CpE-031-VDA-CpE21S4/blob/main/Virtucio_Challenge_2_Coil_Flip.ipynb\" target=\"_parent\"><img src=\"https://colab.research.google.com/assets/colab-badge.svg\" alt=\"Open In Colab\"/></a>"
      ]
    },
    {
      "cell_type": "markdown",
      "source": [
        "NAME: Virtucio, Dominic Joseph P.\n",
        "\n",
        "Course/Section: CPE 031/CPE21S4\n",
        "\n",
        "#Challenge 2: Coil Flip\n",
        "\n",
        "NAME: Virtucio, Dominic Joseph P.\n",
        "\n",
        "Course/Section: CPE21S4\n",
        "\n",
        "\n",
        "\n",
        "\n",
        "**Directions:** Create a function that simulates coin flip repeated n times, with 0 representing tails and 1 representing heads. Make the function a generator with the parameter n as the number of coin flips.\n",
        "\n",
        "Use the numpy library as np and function of np.random.randint() in order to simulate a coin flip. After defining this function, return the result as a List using List Comprehension discussed previously"
      ],
      "metadata": {
        "id": "9NY6QHH9p7IG"
      }
    },
    {
      "cell_type": "code",
      "execution_count": 6,
      "metadata": {
        "colab": {
          "base_uri": "https://localhost:8080/"
        },
        "id": "-xGXXr5_pwm9",
        "outputId": "d31d337c-e7e6-4f0f-d6d3-0a62f72c93af"
      },
      "outputs": [
        {
          "output_type": "stream",
          "name": "stdout",
          "text": [
            "Enter the number of coin flips: 23\n",
            "[0, 0, 1, 1, 0, 1, 1, 0, 0, 1, 0, 1, 1, 1, 0, 1, 0, 0, 0, 1, 1, 0, 0]\n"
          ]
        }
      ],
      "source": [
        "import numpy as np\n",
        "\n",
        "def coin_flip(n):\n",
        "  flips = np.random.randint(0, 2, n)\n",
        "  return [flip for flip in flips]\n",
        "n = int(input(\"Enter the number of coin flips: \"))\n",
        "print([var for var in coin_flip(n)])"
      ]
    }
  ]
}